{
 "cells": [
  {
   "cell_type": "code",
   "execution_count": null,
   "id": "8c3187bc-47b1-49f6-8342-aba461c371ea",
   "metadata": {},
   "outputs": [],
   "source": []
  }
 ],
 "metadata": {
  "kernelspec": {
   "display_name": "",
   "name": ""
  },
  "language_info": {
   "name": ""
  }
 },
 "nbformat": 4,
 "nbformat_minor": 5
}
